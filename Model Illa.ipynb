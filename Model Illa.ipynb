{
 "cells": [
  {
   "cell_type": "markdown",
   "metadata": {
    "scrolled": true
   },
   "source": [
    "#### Illavenil Prabhakaran - Cloud"
   ]
  },
  {
   "cell_type": "code",
   "execution_count": 1,
   "metadata": {},
   "outputs": [
    {
     "name": "stderr",
     "output_type": "stream",
     "text": [
      "WARNING: An illegal reflective access operation has occurred\n",
      "WARNING: Illegal reflective access by org.apache.spark.unsafe.Platform (file:/Users/vishnu/opt/anaconda3/lib/python3.9/site-packages/pyspark/jars/spark-unsafe_2.12-3.2.1.jar) to constructor java.nio.DirectByteBuffer(long,int)\n",
      "WARNING: Please consider reporting this to the maintainers of org.apache.spark.unsafe.Platform\n",
      "WARNING: Use --illegal-access=warn to enable warnings of further illegal reflective access operations\n",
      "WARNING: All illegal access operations will be denied in a future release\n",
      "Using Spark's default log4j profile: org/apache/spark/log4j-defaults.properties\n",
      "Setting default log level to \"WARN\".\n",
      "To adjust logging level use sc.setLogLevel(newLevel). For SparkR, use setLogLevel(newLevel).\n",
      "22/12/08 20:35:21 WARN NativeCodeLoader: Unable to load native-hadoop library for your platform... using builtin-java classes where applicable\n",
      "22/12/08 20:35:21 WARN Utils: Service 'SparkUI' could not bind on port 4040. Attempting port 4041.\n",
      "22/12/08 20:35:21 WARN Utils: Service 'SparkUI' could not bind on port 4041. Attempting port 4042.\n",
      "22/12/08 20:35:21 WARN Utils: Service 'SparkUI' could not bind on port 4042. Attempting port 4043.\n",
      "22/12/08 20:35:21 WARN Utils: Service 'SparkUI' could not bind on port 4043. Attempting port 4044.\n"
     ]
    }
   ],
   "source": [
    "import numpy as np # linear algebra\n",
    "import pandas as pd # data processing, CSV file I/O (e.g. pd.read_csv)\n",
    "import matplotlib.pyplot as plt #plotting\n",
    "import seaborn as sns #good visualizing\n",
    "import os\n",
    "import warnings\n",
    "warnings.filterwarnings('ignore')\n",
    "\n",
    "from pyspark.context import SparkContext\n",
    "from pyspark import SparkContext\n",
    "sc = SparkContext('local')"
   ]
  },
  {
   "cell_type": "code",
   "execution_count": 2,
   "metadata": {},
   "outputs": [],
   "source": [
    "from pyspark.sql.session import SparkSession\n",
    "spark = SparkSession.builder.appName('Illavenil').getOrCreate()"
   ]
  },
  {
   "cell_type": "code",
   "execution_count": 3,
   "metadata": {},
   "outputs": [],
   "source": [
    "path = \"TrainingDataset.csv\"\n",
    "val_path = \"ValidationDataset.csv\"\n",
    "df = spark.read.option(\"delimiter\", \";\").option(\"header\", \"true\").option(\"inferSchema\",\"true\").csv(path)\n",
    "val_df = spark.read.option(\"delimiter\", \";\").option(\"header\", \"true\").option(\"inferSchema\",\"true\").csv(val_path)"
   ]
  },
  {
   "cell_type": "code",
   "execution_count": 4,
   "metadata": {},
   "outputs": [
    {
     "name": "stdout",
     "output_type": "stream",
     "text": [
      "root\n",
      " |-- fixed acidity: double (nullable = true)\n",
      " |-- volatile acidity: double (nullable = true)\n",
      " |-- citric acid: double (nullable = true)\n",
      " |-- residual sugar: double (nullable = true)\n",
      " |-- chlorides: double (nullable = true)\n",
      " |-- free sulfur dioxide: double (nullable = true)\n",
      " |-- total sulfur dioxide: double (nullable = true)\n",
      " |-- density: double (nullable = true)\n",
      " |-- pH: double (nullable = true)\n",
      " |-- sulphates: double (nullable = true)\n",
      " |-- alcohol: double (nullable = true)\n",
      " |-- quality: integer (nullable = true)\n",
      "\n"
     ]
    }
   ],
   "source": [
    "df.printSchema()"
   ]
  },
  {
   "cell_type": "code",
   "execution_count": 5,
   "metadata": {},
   "outputs": [
    {
     "name": "stdout",
     "output_type": "stream",
     "text": [
      "+-------------+----------------+-----------+--------------+---------+-------------------+--------------------+-------+---+---------+-------+-------+\n",
      "|fixed acidity|volatile acidity|citric acid|residual sugar|chlorides|free sulfur dioxide|total sulfur dioxide|density| pH|sulphates|alcohol|quality|\n",
      "+-------------+----------------+-----------+--------------+---------+-------------------+--------------------+-------+---+---------+-------+-------+\n",
      "|            0|               0|          0|             0|        0|                  0|                   0|      0|  0|        0|      0|      0|\n",
      "+-------------+----------------+-----------+--------------+---------+-------------------+--------------------+-------+---+---------+-------+-------+\n",
      "\n"
     ]
    }
   ],
   "source": [
    "from pyspark.sql.functions import isnan, when, count, col\n",
    "\n",
    "df.select([count(when(isnan(c) | col(c).isNull(), c)).alias(c) for c in df.columns]).show()"
   ]
  },
  {
   "cell_type": "code",
   "execution_count": 6,
   "metadata": {},
   "outputs": [
    {
     "data": {
      "text/plain": [
       "['fixed acidity',\n",
       " 'volatile acidity',\n",
       " 'citric acid',\n",
       " 'residual sugar',\n",
       " 'chlorides',\n",
       " 'free sulfur dioxide',\n",
       " 'total sulfur dioxide',\n",
       " 'density',\n",
       " 'pH',\n",
       " 'sulphates',\n",
       " 'alcohol']"
      ]
     },
     "execution_count": 6,
     "metadata": {},
     "output_type": "execute_result"
    }
   ],
   "source": [
    "feature_col = df.drop('quality').columns\n",
    "feature_col"
   ]
  },
  {
   "cell_type": "code",
   "execution_count": 7,
   "metadata": {},
   "outputs": [
    {
     "name": "stderr",
     "output_type": "stream",
     "text": [
      "22/12/08 20:35:29 WARN InstanceBuilder$NativeBLAS: Failed to load implementation from:dev.ludovic.netlib.blas.JNIBLAS\n",
      "22/12/08 20:35:29 WARN InstanceBuilder$NativeBLAS: Failed to load implementation from:dev.ludovic.netlib.blas.ForeignLinkerBLAS\n"
     ]
    },
    {
     "data": {
      "text/html": [
       "<style type=\"text/css\">\n",
       "#T_d575b_row0_col0, #T_d575b_row1_col1, #T_d575b_row2_col2, #T_d575b_row3_col3, #T_d575b_row4_col4, #T_d575b_row5_col5, #T_d575b_row6_col6, #T_d575b_row7_col7, #T_d575b_row8_col8, #T_d575b_row9_col9, #T_d575b_row10_col10 {\n",
       "  background-color: #b40426;\n",
       "  color: #f1f1f1;\n",
       "}\n",
       "#T_d575b_row0_col1 {\n",
       "  background-color: #7a9df8;\n",
       "  color: #f1f1f1;\n",
       "}\n",
       "#T_d575b_row0_col2 {\n",
       "  background-color: #f08b6e;\n",
       "  color: #f1f1f1;\n",
       "}\n",
       "#T_d575b_row0_col3 {\n",
       "  background-color: #5e7de7;\n",
       "  color: #f1f1f1;\n",
       "}\n",
       "#T_d575b_row0_col4, #T_d575b_row9_col8 {\n",
       "  background-color: #9fbfff;\n",
       "  color: #000000;\n",
       "}\n",
       "#T_d575b_row0_col5, #T_d575b_row0_col8, #T_d575b_row1_col2, #T_d575b_row1_col9, #T_d575b_row2_col1, #T_d575b_row7_col10, #T_d575b_row8_col0, #T_d575b_row8_col3, #T_d575b_row8_col4, #T_d575b_row10_col6, #T_d575b_row10_col7 {\n",
       "  background-color: #3b4cc0;\n",
       "  color: #f1f1f1;\n",
       "}\n",
       "#T_d575b_row0_col6 {\n",
       "  background-color: #5b7ae5;\n",
       "  color: #f1f1f1;\n",
       "}\n",
       "#T_d575b_row0_col7 {\n",
       "  background-color: #f29274;\n",
       "  color: #f1f1f1;\n",
       "}\n",
       "#T_d575b_row0_col9, #T_d575b_row3_col8, #T_d575b_row5_col7 {\n",
       "  background-color: #b3cdfb;\n",
       "  color: #000000;\n",
       "}\n",
       "#T_d575b_row0_col10 {\n",
       "  background-color: #98b9ff;\n",
       "  color: #000000;\n",
       "}\n",
       "#T_d575b_row1_col0 {\n",
       "  background-color: #8caffe;\n",
       "  color: #000000;\n",
       "}\n",
       "#T_d575b_row1_col3 {\n",
       "  background-color: #506bda;\n",
       "  color: #f1f1f1;\n",
       "}\n",
       "#T_d575b_row1_col4, #T_d575b_row7_col6 {\n",
       "  background-color: #96b7ff;\n",
       "  color: #000000;\n",
       "}\n",
       "#T_d575b_row1_col5 {\n",
       "  background-color: #5f7fe8;\n",
       "  color: #f1f1f1;\n",
       "}\n",
       "#T_d575b_row1_col6 {\n",
       "  background-color: #90b2fe;\n",
       "  color: #000000;\n",
       "}\n",
       "#T_d575b_row1_col7, #T_d575b_row7_col1 {\n",
       "  background-color: #bcd2f7;\n",
       "  color: #000000;\n",
       "}\n",
       "#T_d575b_row1_col8 {\n",
       "  background-color: #e4d9d2;\n",
       "  color: #000000;\n",
       "}\n",
       "#T_d575b_row1_col10 {\n",
       "  background-color: #81a4fb;\n",
       "  color: #f1f1f1;\n",
       "}\n",
       "#T_d575b_row2_col0 {\n",
       "  background-color: #ee8669;\n",
       "  color: #f1f1f1;\n",
       "}\n",
       "#T_d575b_row2_col3, #T_d575b_row9_col5 {\n",
       "  background-color: #7093f3;\n",
       "  color: #f1f1f1;\n",
       "}\n",
       "#T_d575b_row2_col4, #T_d575b_row6_col2, #T_d575b_row7_col4 {\n",
       "  background-color: #bad0f8;\n",
       "  color: #000000;\n",
       "}\n",
       "#T_d575b_row2_col5 {\n",
       "  background-color: #4f69d9;\n",
       "  color: #f1f1f1;\n",
       "}\n",
       "#T_d575b_row2_col6, #T_d575b_row4_col10, #T_d575b_row7_col8 {\n",
       "  background-color: #82a6fb;\n",
       "  color: #f1f1f1;\n",
       "}\n",
       "#T_d575b_row2_col7, #T_d575b_row7_col2 {\n",
       "  background-color: #edd1c2;\n",
       "  color: #000000;\n",
       "}\n",
       "#T_d575b_row2_col8 {\n",
       "  background-color: #5470de;\n",
       "  color: #f1f1f1;\n",
       "}\n",
       "#T_d575b_row2_col9, #T_d575b_row4_col0 {\n",
       "  background-color: #d3dbe7;\n",
       "  color: #000000;\n",
       "}\n",
       "#T_d575b_row2_col10 {\n",
       "  background-color: #c6d6f1;\n",
       "  color: #000000;\n",
       "}\n",
       "#T_d575b_row3_col0, #T_d575b_row3_col2, #T_d575b_row5_col8 {\n",
       "  background-color: #cbd8ee;\n",
       "  color: #000000;\n",
       "}\n",
       "#T_d575b_row3_col1 {\n",
       "  background-color: #b5cdfa;\n",
       "  color: #000000;\n",
       "}\n",
       "#T_d575b_row3_col4 {\n",
       "  background-color: #97b8ff;\n",
       "  color: #000000;\n",
       "}\n",
       "#T_d575b_row3_col5 {\n",
       "  background-color: #a6c4fe;\n",
       "  color: #000000;\n",
       "}\n",
       "#T_d575b_row3_col6 {\n",
       "  background-color: #b7cff9;\n",
       "  color: #000000;\n",
       "}\n",
       "#T_d575b_row3_col7 {\n",
       "  background-color: #f0cdbb;\n",
       "  color: #000000;\n",
       "}\n",
       "#T_d575b_row3_col9, #T_d575b_row6_col10 {\n",
       "  background-color: #7ea1fa;\n",
       "  color: #f1f1f1;\n",
       "}\n",
       "#T_d575b_row3_col10 {\n",
       "  background-color: #b2ccfb;\n",
       "  color: #000000;\n",
       "}\n",
       "#T_d575b_row4_col1 {\n",
       "  background-color: #c1d4f4;\n",
       "  color: #000000;\n",
       "}\n",
       "#T_d575b_row4_col2, #T_d575b_row4_col7 {\n",
       "  background-color: #dadce0;\n",
       "  color: #000000;\n",
       "}\n",
       "#T_d575b_row4_col3 {\n",
       "  background-color: #6384eb;\n",
       "  color: #f1f1f1;\n",
       "}\n",
       "#T_d575b_row4_col5 {\n",
       "  background-color: #6687ed;\n",
       "  color: #f1f1f1;\n",
       "}\n",
       "#T_d575b_row4_col6 {\n",
       "  background-color: #86a9fc;\n",
       "  color: #f1f1f1;\n",
       "}\n",
       "#T_d575b_row4_col8 {\n",
       "  background-color: #85a8fc;\n",
       "  color: #f1f1f1;\n",
       "}\n",
       "#T_d575b_row4_col9 {\n",
       "  background-color: #e5d8d1;\n",
       "  color: #000000;\n",
       "}\n",
       "#T_d575b_row5_col0, #T_d575b_row5_col10 {\n",
       "  background-color: #a1c0ff;\n",
       "  color: #000000;\n",
       "}\n",
       "#T_d575b_row5_col1, #T_d575b_row6_col8 {\n",
       "  background-color: #afcafc;\n",
       "  color: #000000;\n",
       "}\n",
       "#T_d575b_row5_col2 {\n",
       "  background-color: #a2c1ff;\n",
       "  color: #000000;\n",
       "}\n",
       "#T_d575b_row5_col3, #T_d575b_row6_col4 {\n",
       "  background-color: #92b4fe;\n",
       "  color: #000000;\n",
       "}\n",
       "#T_d575b_row5_col4 {\n",
       "  background-color: #84a7fc;\n",
       "  color: #f1f1f1;\n",
       "}\n",
       "#T_d575b_row5_col6 {\n",
       "  background-color: #f7a889;\n",
       "  color: #000000;\n",
       "}\n",
       "#T_d575b_row5_col9 {\n",
       "  background-color: #89acfd;\n",
       "  color: #000000;\n",
       "}\n",
       "#T_d575b_row6_col0 {\n",
       "  background-color: #abc8fd;\n",
       "  color: #000000;\n",
       "}\n",
       "#T_d575b_row6_col1, #T_d575b_row10_col2 {\n",
       "  background-color: #c5d6f2;\n",
       "  color: #000000;\n",
       "}\n",
       "#T_d575b_row6_col3 {\n",
       "  background-color: #94b6ff;\n",
       "  color: #000000;\n",
       "}\n",
       "#T_d575b_row6_col5 {\n",
       "  background-color: #f7b093;\n",
       "  color: #000000;\n",
       "}\n",
       "#T_d575b_row6_col7, #T_d575b_row9_col10 {\n",
       "  background-color: #c9d7f0;\n",
       "  color: #000000;\n",
       "}\n",
       "#T_d575b_row6_col9 {\n",
       "  background-color: #7b9ff9;\n",
       "  color: #f1f1f1;\n",
       "}\n",
       "#T_d575b_row7_col0 {\n",
       "  background-color: #f18d6f;\n",
       "  color: #f1f1f1;\n",
       "}\n",
       "#T_d575b_row7_col3 {\n",
       "  background-color: #bed2f6;\n",
       "  color: #000000;\n",
       "}\n",
       "#T_d575b_row7_col5 {\n",
       "  background-color: #6485ec;\n",
       "  color: #f1f1f1;\n",
       "}\n",
       "#T_d575b_row7_col9 {\n",
       "  background-color: #a7c5fe;\n",
       "  color: #000000;\n",
       "}\n",
       "#T_d575b_row8_col1 {\n",
       "  background-color: #dbdcde;\n",
       "  color: #000000;\n",
       "}\n",
       "#T_d575b_row8_col2 {\n",
       "  background-color: #4055c8;\n",
       "  color: #f1f1f1;\n",
       "}\n",
       "#T_d575b_row8_col5 {\n",
       "  background-color: #7699f6;\n",
       "  color: #f1f1f1;\n",
       "}\n",
       "#T_d575b_row8_col6 {\n",
       "  background-color: #6180e9;\n",
       "  color: #f1f1f1;\n",
       "}\n",
       "#T_d575b_row8_col7 {\n",
       "  background-color: #6f92f3;\n",
       "  color: #f1f1f1;\n",
       "}\n",
       "#T_d575b_row8_col9 {\n",
       "  background-color: #516ddb;\n",
       "  color: #f1f1f1;\n",
       "}\n",
       "#T_d575b_row8_col10 {\n",
       "  background-color: #dfdbd9;\n",
       "  color: #000000;\n",
       "}\n",
       "#T_d575b_row9_col0 {\n",
       "  background-color: #e1dad6;\n",
       "  color: #000000;\n",
       "}\n",
       "#T_d575b_row9_col1 {\n",
       "  background-color: #779af7;\n",
       "  color: #f1f1f1;\n",
       "}\n",
       "#T_d575b_row9_col2 {\n",
       "  background-color: #ecd3c5;\n",
       "  color: #000000;\n",
       "}\n",
       "#T_d575b_row9_col3, #T_d575b_row10_col5 {\n",
       "  background-color: #4c66d6;\n",
       "  color: #f1f1f1;\n",
       "}\n",
       "#T_d575b_row9_col4 {\n",
       "  background-color: #e6d7cf;\n",
       "  color: #000000;\n",
       "}\n",
       "#T_d575b_row9_col6 {\n",
       "  background-color: #7597f6;\n",
       "  color: #f1f1f1;\n",
       "}\n",
       "#T_d575b_row9_col7 {\n",
       "  background-color: #d1dae9;\n",
       "  color: #000000;\n",
       "}\n",
       "#T_d575b_row10_col0 {\n",
       "  background-color: #a9c6fd;\n",
       "  color: #000000;\n",
       "}\n",
       "#T_d575b_row10_col1 {\n",
       "  background-color: #80a3fa;\n",
       "  color: #f1f1f1;\n",
       "}\n",
       "#T_d575b_row10_col3 {\n",
       "  background-color: #4b64d5;\n",
       "  color: #f1f1f1;\n",
       "}\n",
       "#T_d575b_row10_col4 {\n",
       "  background-color: #4961d2;\n",
       "  color: #f1f1f1;\n",
       "}\n",
       "#T_d575b_row10_col8 {\n",
       "  background-color: #e7d7ce;\n",
       "  color: #000000;\n",
       "}\n",
       "#T_d575b_row10_col9 {\n",
       "  background-color: #9bbcff;\n",
       "  color: #000000;\n",
       "}\n",
       "</style>\n",
       "<table id=\"T_d575b\">\n",
       "  <thead>\n",
       "    <tr>\n",
       "      <th class=\"blank level0\" >&nbsp;</th>\n",
       "      <th id=\"T_d575b_level0_col0\" class=\"col_heading level0 col0\" >fixed acidity</th>\n",
       "      <th id=\"T_d575b_level0_col1\" class=\"col_heading level0 col1\" >volatile acidity</th>\n",
       "      <th id=\"T_d575b_level0_col2\" class=\"col_heading level0 col2\" >citric acid</th>\n",
       "      <th id=\"T_d575b_level0_col3\" class=\"col_heading level0 col3\" >residual sugar</th>\n",
       "      <th id=\"T_d575b_level0_col4\" class=\"col_heading level0 col4\" >chlorides</th>\n",
       "      <th id=\"T_d575b_level0_col5\" class=\"col_heading level0 col5\" >free sulfur dioxide</th>\n",
       "      <th id=\"T_d575b_level0_col6\" class=\"col_heading level0 col6\" >total sulfur dioxide</th>\n",
       "      <th id=\"T_d575b_level0_col7\" class=\"col_heading level0 col7\" >density</th>\n",
       "      <th id=\"T_d575b_level0_col8\" class=\"col_heading level0 col8\" >pH</th>\n",
       "      <th id=\"T_d575b_level0_col9\" class=\"col_heading level0 col9\" >sulphates</th>\n",
       "      <th id=\"T_d575b_level0_col10\" class=\"col_heading level0 col10\" >alcohol</th>\n",
       "    </tr>\n",
       "  </thead>\n",
       "  <tbody>\n",
       "    <tr>\n",
       "      <th id=\"T_d575b_level0_row0\" class=\"row_heading level0 row0\" >fixed acidity</th>\n",
       "      <td id=\"T_d575b_row0_col0\" class=\"data row0 col0\" >1.00</td>\n",
       "      <td id=\"T_d575b_row0_col1\" class=\"data row0 col1\" >-0.25</td>\n",
       "      <td id=\"T_d575b_row0_col2\" class=\"data row0 col2\" >0.66</td>\n",
       "      <td id=\"T_d575b_row0_col3\" class=\"data row0 col3\" >0.06</td>\n",
       "      <td id=\"T_d575b_row0_col4\" class=\"data row0 col4\" >0.11</td>\n",
       "      <td id=\"T_d575b_row0_col5\" class=\"data row0 col5\" >-0.15</td>\n",
       "      <td id=\"T_d575b_row0_col6\" class=\"data row0 col6\" >-0.10</td>\n",
       "      <td id=\"T_d575b_row0_col7\" class=\"data row0 col7\" >0.63</td>\n",
       "      <td id=\"T_d575b_row0_col8\" class=\"data row0 col8\" >-0.66</td>\n",
       "      <td id=\"T_d575b_row0_col9\" class=\"data row0 col9\" >0.20</td>\n",
       "      <td id=\"T_d575b_row0_col10\" class=\"data row0 col10\" >-0.12</td>\n",
       "    </tr>\n",
       "    <tr>\n",
       "      <th id=\"T_d575b_level0_row1\" class=\"row_heading level0 row1\" >volatile acidity</th>\n",
       "      <td id=\"T_d575b_row1_col0\" class=\"data row1 col0\" >-0.25</td>\n",
       "      <td id=\"T_d575b_row1_col1\" class=\"data row1 col1\" >1.00</td>\n",
       "      <td id=\"T_d575b_row1_col2\" class=\"data row1 col2\" >-0.55</td>\n",
       "      <td id=\"T_d575b_row1_col3\" class=\"data row1 col3\" >0.01</td>\n",
       "      <td id=\"T_d575b_row1_col4\" class=\"data row1 col4\" >0.07</td>\n",
       "      <td id=\"T_d575b_row1_col5\" class=\"data row1 col5\" >-0.01</td>\n",
       "      <td id=\"T_d575b_row1_col6\" class=\"data row1 col6\" >0.09</td>\n",
       "      <td id=\"T_d575b_row1_col7\" class=\"data row1 col7\" >0.05</td>\n",
       "      <td id=\"T_d575b_row1_col8\" class=\"data row1 col8\" >0.22</td>\n",
       "      <td id=\"T_d575b_row1_col9\" class=\"data row1 col9\" >-0.26</td>\n",
       "      <td id=\"T_d575b_row1_col10\" class=\"data row1 col10\" >-0.22</td>\n",
       "    </tr>\n",
       "    <tr>\n",
       "      <th id=\"T_d575b_level0_row2\" class=\"row_heading level0 row2\" >citric acid</th>\n",
       "      <td id=\"T_d575b_row2_col0\" class=\"data row2 col0\" >0.66</td>\n",
       "      <td id=\"T_d575b_row2_col1\" class=\"data row2 col1\" >-0.55</td>\n",
       "      <td id=\"T_d575b_row2_col2\" class=\"data row2 col2\" >1.00</td>\n",
       "      <td id=\"T_d575b_row2_col3\" class=\"data row2 col3\" >0.12</td>\n",
       "      <td id=\"T_d575b_row2_col4\" class=\"data row2 col4\" >0.21</td>\n",
       "      <td id=\"T_d575b_row2_col5\" class=\"data row2 col5\" >-0.07</td>\n",
       "      <td id=\"T_d575b_row2_col6\" class=\"data row2 col6\" >0.04</td>\n",
       "      <td id=\"T_d575b_row2_col7\" class=\"data row2 col7\" >0.33</td>\n",
       "      <td id=\"T_d575b_row2_col8\" class=\"data row2 col8\" >-0.52</td>\n",
       "      <td id=\"T_d575b_row2_col9\" class=\"data row2 col9\" >0.32</td>\n",
       "      <td id=\"T_d575b_row2_col10\" class=\"data row2 col10\" >0.09</td>\n",
       "    </tr>\n",
       "    <tr>\n",
       "      <th id=\"T_d575b_level0_row3\" class=\"row_heading level0 row3\" >residual sugar</th>\n",
       "      <td id=\"T_d575b_row3_col0\" class=\"data row3 col0\" >0.06</td>\n",
       "      <td id=\"T_d575b_row3_col1\" class=\"data row3 col1\" >0.01</td>\n",
       "      <td id=\"T_d575b_row3_col2\" class=\"data row3 col2\" >0.12</td>\n",
       "      <td id=\"T_d575b_row3_col3\" class=\"data row3 col3\" >1.00</td>\n",
       "      <td id=\"T_d575b_row3_col4\" class=\"data row3 col4\" >0.08</td>\n",
       "      <td id=\"T_d575b_row3_col5\" class=\"data row3 col5\" >0.22</td>\n",
       "      <td id=\"T_d575b_row3_col6\" class=\"data row3 col6\" >0.23</td>\n",
       "      <td id=\"T_d575b_row3_col7\" class=\"data row3 col7\" >0.36</td>\n",
       "      <td id=\"T_d575b_row3_col8\" class=\"data row3 col8\" >-0.06</td>\n",
       "      <td id=\"T_d575b_row3_col9\" class=\"data row3 col9\" >0.00</td>\n",
       "      <td id=\"T_d575b_row3_col10\" class=\"data row3 col10\" >-0.00</td>\n",
       "    </tr>\n",
       "    <tr>\n",
       "      <th id=\"T_d575b_level0_row4\" class=\"row_heading level0 row4\" >chlorides</th>\n",
       "      <td id=\"T_d575b_row4_col0\" class=\"data row4 col0\" >0.11</td>\n",
       "      <td id=\"T_d575b_row4_col1\" class=\"data row4 col1\" >0.07</td>\n",
       "      <td id=\"T_d575b_row4_col2\" class=\"data row4 col2\" >0.21</td>\n",
       "      <td id=\"T_d575b_row4_col3\" class=\"data row4 col3\" >0.08</td>\n",
       "      <td id=\"T_d575b_row4_col4\" class=\"data row4 col4\" >1.00</td>\n",
       "      <td id=\"T_d575b_row4_col5\" class=\"data row4 col5\" >0.01</td>\n",
       "      <td id=\"T_d575b_row4_col6\" class=\"data row4 col6\" >0.05</td>\n",
       "      <td id=\"T_d575b_row4_col7\" class=\"data row4 col7\" >0.21</td>\n",
       "      <td id=\"T_d575b_row4_col8\" class=\"data row4 col8\" >-0.28</td>\n",
       "      <td id=\"T_d575b_row4_col9\" class=\"data row4 col9\" >0.41</td>\n",
       "      <td id=\"T_d575b_row4_col10\" class=\"data row4 col10\" >-0.22</td>\n",
       "    </tr>\n",
       "    <tr>\n",
       "      <th id=\"T_d575b_level0_row5\" class=\"row_heading level0 row5\" >free sulfur dioxide</th>\n",
       "      <td id=\"T_d575b_row5_col0\" class=\"data row5 col0\" >-0.15</td>\n",
       "      <td id=\"T_d575b_row5_col1\" class=\"data row5 col1\" >-0.01</td>\n",
       "      <td id=\"T_d575b_row5_col2\" class=\"data row5 col2\" >-0.07</td>\n",
       "      <td id=\"T_d575b_row5_col3\" class=\"data row5 col3\" >0.22</td>\n",
       "      <td id=\"T_d575b_row5_col4\" class=\"data row5 col4\" >0.01</td>\n",
       "      <td id=\"T_d575b_row5_col5\" class=\"data row5 col5\" >1.00</td>\n",
       "      <td id=\"T_d575b_row5_col6\" class=\"data row5 col6\" >0.64</td>\n",
       "      <td id=\"T_d575b_row5_col7\" class=\"data row5 col7\" >0.01</td>\n",
       "      <td id=\"T_d575b_row5_col8\" class=\"data row5 col8\" >0.06</td>\n",
       "      <td id=\"T_d575b_row5_col9\" class=\"data row5 col9\" >0.04</td>\n",
       "      <td id=\"T_d575b_row5_col10\" class=\"data row5 col10\" >-0.08</td>\n",
       "    </tr>\n",
       "    <tr>\n",
       "      <th id=\"T_d575b_level0_row6\" class=\"row_heading level0 row6\" >total sulfur dioxide</th>\n",
       "      <td id=\"T_d575b_row6_col0\" class=\"data row6 col0\" >-0.10</td>\n",
       "      <td id=\"T_d575b_row6_col1\" class=\"data row6 col1\" >0.09</td>\n",
       "      <td id=\"T_d575b_row6_col2\" class=\"data row6 col2\" >0.04</td>\n",
       "      <td id=\"T_d575b_row6_col3\" class=\"data row6 col3\" >0.23</td>\n",
       "      <td id=\"T_d575b_row6_col4\" class=\"data row6 col4\" >0.05</td>\n",
       "      <td id=\"T_d575b_row6_col5\" class=\"data row6 col5\" >0.64</td>\n",
       "      <td id=\"T_d575b_row6_col6\" class=\"data row6 col6\" >1.00</td>\n",
       "      <td id=\"T_d575b_row6_col7\" class=\"data row6 col7\" >0.10</td>\n",
       "      <td id=\"T_d575b_row6_col8\" class=\"data row6 col8\" >-0.08</td>\n",
       "      <td id=\"T_d575b_row6_col9\" class=\"data row6 col9\" >-0.01</td>\n",
       "      <td id=\"T_d575b_row6_col10\" class=\"data row6 col10\" >-0.23</td>\n",
       "    </tr>\n",
       "    <tr>\n",
       "      <th id=\"T_d575b_level0_row7\" class=\"row_heading level0 row7\" >density</th>\n",
       "      <td id=\"T_d575b_row7_col0\" class=\"data row7 col0\" >0.63</td>\n",
       "      <td id=\"T_d575b_row7_col1\" class=\"data row7 col1\" >0.05</td>\n",
       "      <td id=\"T_d575b_row7_col2\" class=\"data row7 col2\" >0.33</td>\n",
       "      <td id=\"T_d575b_row7_col3\" class=\"data row7 col3\" >0.36</td>\n",
       "      <td id=\"T_d575b_row7_col4\" class=\"data row7 col4\" >0.21</td>\n",
       "      <td id=\"T_d575b_row7_col5\" class=\"data row7 col5\" >0.01</td>\n",
       "      <td id=\"T_d575b_row7_col6\" class=\"data row7 col6\" >0.10</td>\n",
       "      <td id=\"T_d575b_row7_col7\" class=\"data row7 col7\" >1.00</td>\n",
       "      <td id=\"T_d575b_row7_col8\" class=\"data row7 col8\" >-0.30</td>\n",
       "      <td id=\"T_d575b_row7_col9\" class=\"data row7 col9\" >0.15</td>\n",
       "      <td id=\"T_d575b_row7_col10\" class=\"data row7 col10\" >-0.56</td>\n",
       "    </tr>\n",
       "    <tr>\n",
       "      <th id=\"T_d575b_level0_row8\" class=\"row_heading level0 row8\" >pH</th>\n",
       "      <td id=\"T_d575b_row8_col0\" class=\"data row8 col0\" >-0.66</td>\n",
       "      <td id=\"T_d575b_row8_col1\" class=\"data row8 col1\" >0.22</td>\n",
       "      <td id=\"T_d575b_row8_col2\" class=\"data row8 col2\" >-0.52</td>\n",
       "      <td id=\"T_d575b_row8_col3\" class=\"data row8 col3\" >-0.06</td>\n",
       "      <td id=\"T_d575b_row8_col4\" class=\"data row8 col4\" >-0.28</td>\n",
       "      <td id=\"T_d575b_row8_col5\" class=\"data row8 col5\" >0.06</td>\n",
       "      <td id=\"T_d575b_row8_col6\" class=\"data row8 col6\" >-0.08</td>\n",
       "      <td id=\"T_d575b_row8_col7\" class=\"data row8 col7\" >-0.30</td>\n",
       "      <td id=\"T_d575b_row8_col8\" class=\"data row8 col8\" >1.00</td>\n",
       "      <td id=\"T_d575b_row8_col9\" class=\"data row8 col9\" >-0.16</td>\n",
       "      <td id=\"T_d575b_row8_col10\" class=\"data row8 col10\" >0.24</td>\n",
       "    </tr>\n",
       "    <tr>\n",
       "      <th id=\"T_d575b_level0_row9\" class=\"row_heading level0 row9\" >sulphates</th>\n",
       "      <td id=\"T_d575b_row9_col0\" class=\"data row9 col0\" >0.20</td>\n",
       "      <td id=\"T_d575b_row9_col1\" class=\"data row9 col1\" >-0.26</td>\n",
       "      <td id=\"T_d575b_row9_col2\" class=\"data row9 col2\" >0.32</td>\n",
       "      <td id=\"T_d575b_row9_col3\" class=\"data row9 col3\" >0.00</td>\n",
       "      <td id=\"T_d575b_row9_col4\" class=\"data row9 col4\" >0.41</td>\n",
       "      <td id=\"T_d575b_row9_col5\" class=\"data row9 col5\" >0.04</td>\n",
       "      <td id=\"T_d575b_row9_col6\" class=\"data row9 col6\" >-0.01</td>\n",
       "      <td id=\"T_d575b_row9_col7\" class=\"data row9 col7\" >0.15</td>\n",
       "      <td id=\"T_d575b_row9_col8\" class=\"data row9 col8\" >-0.16</td>\n",
       "      <td id=\"T_d575b_row9_col9\" class=\"data row9 col9\" >1.00</td>\n",
       "      <td id=\"T_d575b_row9_col10\" class=\"data row9 col10\" >0.11</td>\n",
       "    </tr>\n",
       "    <tr>\n",
       "      <th id=\"T_d575b_level0_row10\" class=\"row_heading level0 row10\" >alcohol</th>\n",
       "      <td id=\"T_d575b_row10_col0\" class=\"data row10 col0\" >-0.12</td>\n",
       "      <td id=\"T_d575b_row10_col1\" class=\"data row10 col1\" >-0.22</td>\n",
       "      <td id=\"T_d575b_row10_col2\" class=\"data row10 col2\" >0.09</td>\n",
       "      <td id=\"T_d575b_row10_col3\" class=\"data row10 col3\" >-0.00</td>\n",
       "      <td id=\"T_d575b_row10_col4\" class=\"data row10 col4\" >-0.22</td>\n",
       "      <td id=\"T_d575b_row10_col5\" class=\"data row10 col5\" >-0.08</td>\n",
       "      <td id=\"T_d575b_row10_col6\" class=\"data row10 col6\" >-0.23</td>\n",
       "      <td id=\"T_d575b_row10_col7\" class=\"data row10 col7\" >-0.56</td>\n",
       "      <td id=\"T_d575b_row10_col8\" class=\"data row10 col8\" >0.24</td>\n",
       "      <td id=\"T_d575b_row10_col9\" class=\"data row10 col9\" >0.11</td>\n",
       "      <td id=\"T_d575b_row10_col10\" class=\"data row10 col10\" >1.00</td>\n",
       "    </tr>\n",
       "  </tbody>\n",
       "</table>\n"
      ],
      "text/plain": [
       "<pandas.io.formats.style.Styler at 0x7fc500c6f0d0>"
      ]
     },
     "execution_count": 7,
     "metadata": {},
     "output_type": "execute_result"
    }
   ],
   "source": [
    "from pyspark.ml.stat import Correlation\n",
    "from pyspark.ml.feature import VectorAssembler\n",
    "\n",
    "# convert to vector column first\n",
    "vector_col = \"corr_features\"\n",
    "assembler = VectorAssembler(inputCols=feature_col, outputCol=vector_col)\n",
    "df_vector = assembler.transform(df).select(vector_col)\n",
    "\n",
    "# get correlation matrix\n",
    "matrix = Correlation.corr(df_vector, vector_col).collect()[0][0] \n",
    "corr_matrix = matrix.toArray().tolist() \n",
    "corr_matrix_df = pd.DataFrame(data=corr_matrix, columns = feature_col, index=feature_col) \n",
    "corr_matrix_df .style.background_gradient(cmap='coolwarm').set_precision(2)"
   ]
  },
  {
   "cell_type": "code",
   "execution_count": 8,
   "metadata": {
    "scrolled": true
   },
   "outputs": [
    {
     "name": "stdout",
     "output_type": "stream",
     "text": [
      "+-------------+----------------+-----------+--------------+---------+-------------------+--------------------+-------+----+---------+-------+-------+--------------------+\n",
      "|fixed acidity|volatile acidity|citric acid|residual sugar|chlorides|free sulfur dioxide|total sulfur dioxide|density|  pH|sulphates|alcohol|quality|       corr_features|\n",
      "+-------------+----------------+-----------+--------------+---------+-------------------+--------------------+-------+----+---------+-------+-------+--------------------+\n",
      "|          8.9|            0.22|       0.48|           1.8|    0.077|               29.0|                60.0| 0.9968|3.39|     0.53|    9.4|      6|[8.9,0.22,0.48,1....|\n",
      "|          7.6|            0.39|       0.31|           2.3|    0.082|               23.0|                71.0| 0.9982|3.52|     0.65|    9.7|      5|[7.6,0.39,0.31,2....|\n",
      "|          7.9|            0.43|       0.21|           1.6|    0.106|               10.0|                37.0| 0.9966|3.17|     0.91|    9.5|      5|[7.9,0.43,0.21,1....|\n",
      "|          8.5|            0.49|       0.11|           2.3|    0.084|                9.0|                67.0| 0.9968|3.17|     0.53|    9.4|      5|[8.5,0.49,0.11,2....|\n",
      "|          6.9|             0.4|       0.14|           2.4|    0.085|               21.0|                40.0| 0.9968|3.43|     0.63|    9.7|      6|[6.9,0.4,0.14,2.4...|\n",
      "|          6.3|            0.39|       0.16|           1.4|     0.08|               11.0|                23.0| 0.9955|3.34|     0.56|    9.3|      5|[6.3,0.39,0.16,1....|\n",
      "|          7.6|            0.41|       0.24|           1.8|     0.08|                4.0|                11.0| 0.9962|3.28|     0.59|    9.5|      5|[7.6,0.41,0.24,1....|\n",
      "|          7.9|            0.43|       0.21|           1.6|    0.106|               10.0|                37.0| 0.9966|3.17|     0.91|    9.5|      5|[7.9,0.43,0.21,1....|\n",
      "|          7.1|            0.71|        0.0|           1.9|     0.08|               14.0|                35.0| 0.9972|3.47|     0.55|    9.4|      5|[7.1,0.71,0.0,1.9...|\n",
      "|          7.8|           0.645|        0.0|           2.0|    0.082|                8.0|                16.0| 0.9964|3.38|     0.59|    9.8|      6|[7.8,0.645,0.0,2....|\n",
      "|          6.7|           0.675|       0.07|           2.4|    0.089|               17.0|                82.0| 0.9958|3.35|     0.54|   10.1|      5|[6.7,0.675,0.07,2...|\n",
      "|          6.9|           0.685|        0.0|           2.5|    0.105|               22.0|                37.0| 0.9966|3.46|     0.57|   10.6|      6|[6.9,0.685,0.0,2....|\n",
      "|          8.3|           0.655|       0.12|           2.3|    0.083|               15.0|               113.0| 0.9966|3.17|     0.66|    9.8|      5|[8.3,0.655,0.12,2...|\n",
      "|          6.9|           0.605|       0.12|          10.7|    0.073|               40.0|                83.0| 0.9993|3.45|     0.52|    9.4|      6|[6.9,0.605,0.12,1...|\n",
      "|          5.2|            0.32|       0.25|           1.8|    0.103|               13.0|                50.0| 0.9957|3.38|     0.55|    9.2|      5|[5.2,0.32,0.25,1....|\n",
      "|          7.8|           0.645|        0.0|           5.5|    0.086|                5.0|                18.0| 0.9986| 3.4|     0.55|    9.6|      6|[7.8,0.645,0.0,5....|\n",
      "|          7.8|             0.6|       0.14|           2.4|    0.086|                3.0|                15.0| 0.9975|3.42|      0.6|   10.8|      6|[7.8,0.6,0.14,2.4...|\n",
      "|          8.1|            0.38|       0.28|           2.1|    0.066|               13.0|                30.0| 0.9968|3.23|     0.73|    9.7|      7|[8.1,0.38,0.28,2....|\n",
      "|          5.7|            1.13|       0.09|           1.5|    0.172|                7.0|                19.0|  0.994| 3.5|     0.48|    9.8|      4|[5.7,1.13,0.09,1....|\n",
      "|          7.3|            0.45|       0.36|           5.9|    0.074|               12.0|                87.0| 0.9978|3.33|     0.83|   10.5|      5|[7.3,0.45,0.36,5....|\n",
      "+-------------+----------------+-----------+--------------+---------+-------------------+--------------------+-------+----+---------+-------+-------+--------------------+\n",
      "only showing top 20 rows\n",
      "\n"
     ]
    }
   ],
   "source": [
    "train_assembler = VectorAssembler(inputCols=feature_col,outputCol=\"features\")\n",
    "df_train = assembler.transform(df)\n",
    "df_train.show()"
   ]
  },
  {
   "cell_type": "code",
   "execution_count": 9,
   "metadata": {},
   "outputs": [],
   "source": [
    "from pyspark.ml.classification import DecisionTreeClassifier\n",
    "dt = DecisionTreeClassifier(labelCol = 'quality' , featuresCol = \"corr_features\")\n",
    "model = dt.fit(df_train)"
   ]
  },
  {
   "cell_type": "code",
   "execution_count": 10,
   "metadata": {},
   "outputs": [
    {
     "data": {
      "text/plain": [
       "DataFrame[fixed acidity: double, volatile acidity: double, citric acid: double, residual sugar: double, chlorides: double, free sulfur dioxide: double, total sulfur dioxide: double, density: double, pH: double, sulphates: double, alcohol: double, quality: int, corr_features: vector, rawPrediction: vector, probability: vector, prediction: double]"
      ]
     },
     "execution_count": 10,
     "metadata": {},
     "output_type": "execute_result"
    }
   ],
   "source": [
    "model.transform(df_train)"
   ]
  },
  {
   "cell_type": "code",
   "execution_count": 11,
   "metadata": {},
   "outputs": [
    {
     "name": "stderr",
     "output_type": "stream",
     "text": [
      "                                                                                \r"
     ]
    }
   ],
   "source": [
    "model.write().overwrite().save(\"./Illa_model\")"
   ]
  },
  {
   "cell_type": "code",
   "execution_count": 12,
   "metadata": {},
   "outputs": [
    {
     "data": {
      "text/plain": [
       "DecisionTreeClassificationModel: uid=DecisionTreeClassifier_756b03b07f00, depth=5, numNodes=43, numClasses=9, numFeatures=11"
      ]
     },
     "execution_count": 12,
     "metadata": {},
     "output_type": "execute_result"
    }
   ],
   "source": [
    "model.load(\"./Illa_model\")"
   ]
  },
  {
   "cell_type": "code",
   "execution_count": 13,
   "metadata": {},
   "outputs": [
    {
     "data": {
      "text/plain": [
       "DecisionTreeClassificationModel: uid=DecisionTreeClassifier_756b03b07f00, depth=5, numNodes=43, numClasses=9, numFeatures=11"
      ]
     },
     "metadata": {},
     "output_type": "display_data"
    }
   ],
   "source": [
    "display(model)"
   ]
  },
  {
   "cell_type": "code",
   "execution_count": 14,
   "metadata": {
    "scrolled": true
   },
   "outputs": [
    {
     "name": "stdout",
     "output_type": "stream",
     "text": [
      "+-------------+----------------+-----------+--------------+---------+-------------------+--------------------+-------+----+---------+-------+-------+--------------------+\n",
      "|fixed acidity|volatile acidity|citric acid|residual sugar|chlorides|free sulfur dioxide|total sulfur dioxide|density|  pH|sulphates|alcohol|quality|       corr_features|\n",
      "+-------------+----------------+-----------+--------------+---------+-------------------+--------------------+-------+----+---------+-------+-------+--------------------+\n",
      "|          7.4|             0.7|        0.0|           1.9|    0.076|                 11|                  34| 0.9978|3.51|     0.56|    9.4|      5|[7.4,0.7,0.0,1.9,...|\n",
      "|          7.8|            0.88|        0.0|           2.6|    0.098|                 25|                  67| 0.9968| 3.2|     0.68|    9.8|      5|[7.8,0.88,0.0,2.6...|\n",
      "|          7.8|            0.76|       0.04|           2.3|    0.092|                 15|                  54|  0.997|3.26|     0.65|    9.8|      5|[7.8,0.76,0.04,2....|\n",
      "|         11.2|            0.28|       0.56|           1.9|    0.075|                 17|                  60|  0.998|3.16|     0.58|    9.8|      6|[11.2,0.28,0.56,1...|\n",
      "|          7.4|             0.7|        0.0|           1.9|    0.076|                 11|                  34| 0.9978|3.51|     0.56|    9.4|      5|[7.4,0.7,0.0,1.9,...|\n",
      "|          7.4|            0.66|        0.0|           1.8|    0.075|                 13|                  40| 0.9978|3.51|     0.56|    9.4|      5|[7.4,0.66,0.0,1.8...|\n",
      "|          7.9|             0.6|       0.06|           1.6|    0.069|                 15|                  59| 0.9964| 3.3|     0.46|    9.4|      5|[7.9,0.6,0.06,1.6...|\n",
      "|          7.3|            0.65|        0.0|           1.2|    0.065|                 15|                  21| 0.9946|3.39|     0.47|   10.0|      7|[7.3,0.65,0.0,1.2...|\n",
      "|          7.8|            0.58|       0.02|           2.0|    0.073|                  9|                  18| 0.9968|3.36|     0.57|    9.5|      7|[7.8,0.58,0.02,2....|\n",
      "|          7.5|             0.5|       0.36|           6.1|    0.071|                 17|                 102| 0.9978|3.35|      0.8|   10.5|      5|[7.5,0.5,0.36,6.1...|\n",
      "|          6.7|            0.58|       0.08|           1.8|    0.097|                 15|                  65| 0.9959|3.28|     0.54|    9.2|      5|[6.7,0.58,0.08,1....|\n",
      "|          7.5|             0.5|       0.36|           6.1|    0.071|                 17|                 102| 0.9978|3.35|      0.8|   10.5|      5|[7.5,0.5,0.36,6.1...|\n",
      "|          5.6|           0.615|        0.0|           1.6|    0.089|                 16|                  59| 0.9943|3.58|     0.52|    9.9|      5|[5.6,0.615,0.0,1....|\n",
      "|          7.8|            0.61|       0.29|           1.6|    0.114|                  9|                  29| 0.9974|3.26|     1.56|    9.1|      5|[7.8,0.61,0.29,1....|\n",
      "|          8.9|            0.62|       0.18|           3.8|    0.176|                 52|                 145| 0.9986|3.16|     0.88|    9.2|      5|[8.9,0.62,0.18,3....|\n",
      "|          8.9|            0.62|       0.19|           3.9|     0.17|                 51|                 148| 0.9986|3.17|     0.93|    9.2|      5|[8.9,0.62,0.19,3....|\n",
      "|          8.5|            0.28|       0.56|           1.8|    0.092|                 35|                 103| 0.9969| 3.3|     0.75|   10.5|      7|[8.5,0.28,0.56,1....|\n",
      "|          8.1|            0.56|       0.28|           1.7|    0.368|                 16|                  56| 0.9968|3.11|     1.28|    9.3|      5|[8.1,0.56,0.28,1....|\n",
      "|          7.4|            0.59|       0.08|           4.4|    0.086|                  6|                  29| 0.9974|3.38|      0.5|    9.0|      4|[7.4,0.59,0.08,4....|\n",
      "|          7.9|            0.32|       0.51|           1.8|    0.341|                 17|                  56| 0.9969|3.04|     1.08|    9.2|      6|[7.9,0.32,0.51,1....|\n",
      "+-------------+----------------+-----------+--------------+---------+-------------------+--------------------+-------+----+---------+-------+-------+--------------------+\n",
      "only showing top 20 rows\n",
      "\n"
     ]
    }
   ],
   "source": [
    "validation_assembler = VectorAssembler(inputCols=feature_col,outputCol=\"features\")\n",
    "df_validation = assembler.transform(val_df)\n",
    "df_validation.show()"
   ]
  },
  {
   "cell_type": "code",
   "execution_count": 15,
   "metadata": {},
   "outputs": [
    {
     "name": "stdout",
     "output_type": "stream",
     "text": [
      "+-------+--------------------+----------+--------------------+\n",
      "|quality|       rawPrediction|prediction|         probability|\n",
      "+-------+--------------------+----------+--------------------+\n",
      "|      5|[0.0,0.0,0.0,4.0,...|       5.0|[0.0,0.0,0.0,0.00...|\n",
      "|      5|[0.0,0.0,0.0,4.0,...|       5.0|[0.0,0.0,0.0,0.00...|\n",
      "|      5|[0.0,0.0,0.0,4.0,...|       5.0|[0.0,0.0,0.0,0.00...|\n",
      "|      6|[0.0,0.0,0.0,1.0,...|       6.0|[0.0,0.0,0.0,0.01...|\n",
      "|      5|[0.0,0.0,0.0,4.0,...|       5.0|[0.0,0.0,0.0,0.00...|\n",
      "|      5|[0.0,0.0,0.0,4.0,...|       5.0|[0.0,0.0,0.0,0.00...|\n",
      "|      5|[0.0,0.0,0.0,4.0,...|       5.0|[0.0,0.0,0.0,0.00...|\n",
      "|      7|[0.0,0.0,0.0,4.0,...|       5.0|[0.0,0.0,0.0,0.00...|\n",
      "|      7|[0.0,0.0,0.0,4.0,...|       5.0|[0.0,0.0,0.0,0.00...|\n",
      "|      5|[0.0,0.0,0.0,0.0,...|       5.0|[0.0,0.0,0.0,0.0,...|\n",
      "|      5|[0.0,0.0,0.0,4.0,...|       5.0|[0.0,0.0,0.0,0.00...|\n",
      "|      5|[0.0,0.0,0.0,0.0,...|       5.0|[0.0,0.0,0.0,0.0,...|\n",
      "|      5|[0.0,0.0,0.0,4.0,...|       5.0|[0.0,0.0,0.0,0.00...|\n",
      "|      5|[0.0,0.0,0.0,4.0,...|       5.0|[0.0,0.0,0.0,0.00...|\n",
      "|      5|[0.0,0.0,0.0,0.0,...|       5.0|[0.0,0.0,0.0,0.0,...|\n",
      "|      5|[0.0,0.0,0.0,0.0,...|       5.0|[0.0,0.0,0.0,0.0,...|\n",
      "|      7|[0.0,0.0,0.0,0.0,...|       6.0|[0.0,0.0,0.0,0.0,...|\n",
      "|      5|[0.0,0.0,0.0,4.0,...|       5.0|[0.0,0.0,0.0,0.00...|\n",
      "|      4|[0.0,0.0,0.0,4.0,...|       5.0|[0.0,0.0,0.0,0.00...|\n",
      "|      6|[0.0,0.0,0.0,4.0,...|       5.0|[0.0,0.0,0.0,0.00...|\n",
      "+-------+--------------------+----------+--------------------+\n",
      "only showing top 20 rows\n",
      "\n"
     ]
    }
   ],
   "source": [
    "predictions = model.transform(df_validation)\n",
    "predictions.select('quality', 'rawPrediction', 'prediction', 'probability').show()"
   ]
  },
  {
   "cell_type": "code",
   "execution_count": 20,
   "metadata": {},
   "outputs": [
    {
     "name": "stdout",
     "output_type": "stream",
     "text": [
      "Accuracy = 0.48125\n",
      "Test Error = 0.51875\n"
     ]
    }
   ],
   "source": [
    "from pyspark.ml.evaluation import MulticlassClassificationEvaluator\n",
    "\n",
    "evaluator = MulticlassClassificationEvaluator(labelCol=\"quality\", predictionCol=\"prediction\", metricName='accuracy')\n",
    "accuracy = evaluator.evaluate(predictions)\n",
    "print(\"Accuracy = %s\" % (accuracy))\n",
    "print(\"Test Error = %s\" % (1.0 - accuracy))"
   ]
  },
  {
   "cell_type": "code",
   "execution_count": 17,
   "metadata": {},
   "outputs": [
    {
     "name": "stdout",
     "output_type": "stream",
     "text": [
      "[[ 0.  0.  0.  1.  0.  0.]\n",
      " [ 0.  0.  2.  0.  0.  0.]\n",
      " [ 0.  2. 44. 20.  0.  0.]\n",
      " [ 0.  1. 32. 20. 12.  0.]\n",
      " [ 0.  0.  3.  6. 13.  0.]\n",
      " [ 0.  0.  0.  0.  4.  0.]]\n"
     ]
    }
   ],
   "source": [
    "from pyspark.mllib.evaluation import MulticlassMetrics\n",
    "from pyspark.sql.types import FloatType\n",
    "import pyspark.sql.functions as F\n",
    "\n",
    "preds_and_labels = predictions.select(['prediction','quality']).withColumn('quality', F.col('quality').cast(FloatType())).orderBy('prediction')\n",
    "preds_and_labels = preds_and_labels.select(['prediction','quality'])\n",
    "metrics = MulticlassMetrics(preds_and_labels.rdd.map(tuple))\n",
    "print(metrics.confusionMatrix().toArray())"
   ]
  },
  {
   "cell_type": "code",
   "execution_count": 21,
   "metadata": {},
   "outputs": [
    {
     "name": "stdout",
     "output_type": "stream",
     "text": [
      "F1 : 0.462126100440176\n"
     ]
    }
   ],
   "source": [
    "#f1_score\n",
    "my_mc_lr = MulticlassClassificationEvaluator(predictionCol='prediction', labelCol='quality', metricName='f1')\n",
    "print(\"F1 :\", my_mc_lr.evaluate(predictions))"
   ]
  }
 ],
 "metadata": {
  "anaconda-cloud": {},
  "kernelspec": {
   "display_name": "Python 3 (ipykernel)",
   "language": "python",
   "name": "python3"
  },
  "language_info": {
   "codemirror_mode": {
    "name": "ipython",
    "version": 3
   },
   "file_extension": ".py",
   "mimetype": "text/x-python",
   "name": "python",
   "nbconvert_exporter": "python",
   "pygments_lexer": "ipython3",
   "version": "3.9.13"
  }
 },
 "nbformat": 4,
 "nbformat_minor": 1
}
